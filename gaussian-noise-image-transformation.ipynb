{
 "cells": [
  {
   "cell_type": "code",
   "execution_count": null,
   "metadata": {},
   "outputs": [],
   "source": [
    "import os\n",
    "import cv2 \n",
    "import numpy as np\n",
    "from dotenv import load_dotenv, dotenv_values \n",
    "\n",
    "load_dotenv()\n",
    "input_dir = \"C:\\\\Users\\\\nleo\\\\Pictures\\\\Training data\\\\Tremetrics\\\\Gaussian noise\\\\Tremetrics_RA660\"\n",
    "output_dir = f'{input_dir}\\\\Output'\n",
    "os.makedirs(output_dir, exist_ok=True)\n",
    "\n",
    "# Add Gaussian noise\n",
    "def add_gaussion_noise(image, mean=0, var=10):\n",
    "    row, col, ch=image.shape\n",
    "    sigma = var ** 0.5\n",
    "    gauss = np.random.normal(mean, sigma, (row, col, ch))\n",
    "    gauss = gauss.reshape(row, col, ch)\n",
    "    noisy = image + gauss\n",
    "    noisy = np.clip(noisy, 0, 255).astype(np.uint8)\n",
    "    return noisy\n",
    "\n",
    "# Loop through all images in the input directory\n",
    "for filename in os.listdir(input_dir):\n",
    "    print(f'filename {filename}')\n",
    "    if filename.endswith(('.png', '.jpg', '.jpeg', '.bmp', '.tiff')):\n",
    "        # Load the image\n",
    "        image_path = os.path.join(input_dir, filename)\n",
    "        image = cv2.imread(image_path)\n",
    "\n",
    "        # Check if image was loaded properly\n",
    "        if image is None:\n",
    "            print(f\"Error loading {image_path}\")\n",
    "            continue\n",
    "\n",
    "        # Experiment with different variances\n",
    "        for var in [10, 20, 30]:\n",
    "            # Add Gaussian noise to the image\n",
    "            noisy_image = add_gaussion_noise(image, var=var)\n",
    "\n",
    "            output_path = os.path.join(output_dir, f'noisy_var{var}_{filename}')\n",
    "            cv2.imwrite(output_path, noisy_image)\n",
    "\n",
    "    print(\"Completed adding Gaussian noise to all iamges\")\n"
   ]
  }
 ],
 "metadata": {
  "kernelspec": {
   "display_name": "Python 3",
   "language": "python",
   "name": "python3"
  },
  "language_info": {
   "codemirror_mode": {
    "name": "ipython",
    "version": 3
   },
   "file_extension": ".py",
   "mimetype": "text/x-python",
   "name": "python",
   "nbconvert_exporter": "python",
   "pygments_lexer": "ipython3",
   "version": "3.12.4"
  }
 },
 "nbformat": 4,
 "nbformat_minor": 2
}
